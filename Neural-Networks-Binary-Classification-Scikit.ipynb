{
 "cells": [
  {
   "cell_type": "markdown",
   "id": "1cea2b11-ccbd-43cf-9094-f218fe1517b4",
   "metadata": {},
   "source": [
    "# Build and train a Neural Network that can automatically recognize handwritten digits, specifically to identify whether a given digit is \"0\" or not (binary classification)."
   ]
  },
  {
   "cell_type": "markdown",
   "id": "36d9e11e-a1ad-4df7-9a3f-d72a3e2b767d",
   "metadata": {},
   "source": [
    "## Import Libraries\n",
    "\n",
    "- NumPy → fast numerical computations.\n",
    "\n",
    "- Matplotlib → for plotting graphs/images.\n",
    "\n",
    "- Scikit-learn → for splitting datasets into training and validation.\n",
    "\n",
    "- TensorFlow → to build, train, and evaluate the Neural Network."
   ]
  },
  {
   "cell_type": "code",
   "execution_count": 48,
   "id": "f7209bc6-f5b6-4509-8870-8c16de124fc5",
   "metadata": {},
   "outputs": [],
   "source": [
    "# Import necessary libraries\n",
    "import numpy as np\n",
    "import matplotlib.pyplot as plt\n",
    "from sklearn.model_selection import train_test_split\n",
    "from sklearn.preprocessing import StandardScaler\n",
    "import tensorflow as tf\n",
    "from tensorflow.keras import layers, models"
   ]
  },
  {
   "cell_type": "markdown",
   "id": "59a46e89-8842-48d8-a714-4a51da0d91a2",
   "metadata": {},
   "source": [
    "## Load MNIST Dataset\n",
    "\n",
    "TensorFlow provides MNIST by default —\n",
    "It has 28×28 pixel images of handwritten digits (0–9).\n",
    "\n",
    "We split the data into:\n",
    "\n",
    "X_train_full and y_train_full: Training data\n",
    "\n",
    "X_test and y_test: Testing data"
   ]
  },
  {
   "cell_type": "code",
   "execution_count": 49,
   "id": "9c068620-173b-4796-8f85-0dd0c8d0daa0",
   "metadata": {},
   "outputs": [],
   "source": [
    "# Load the MNIST dataset\n",
    "from tensorflow.keras.datasets import mnist"
   ]
  },
  {
   "cell_type": "code",
   "execution_count": 50,
   "id": "03dbf83d-786e-4d68-82ec-84aa930f92a2",
   "metadata": {},
   "outputs": [],
   "source": [
    "# Load data\n",
    "(X_train_full, y_train_full), (X_test, y_test) = mnist.load_data()"
   ]
  },
  {
   "cell_type": "markdown",
   "id": "b4a0e66b-6995-4c1e-838e-9d6efc062787",
   "metadata": {},
   "source": [
    "## Visualize a sample"
   ]
  },
  {
   "cell_type": "code",
   "execution_count": 51,
   "id": "7643bbfb-e421-488b-a452-465cb1772048",
   "metadata": {},
   "outputs": [
    {
     "data": {
      "image/png": "[encoded data removed]",
      "text/plain": [
       "<Figure size 640x480 with 1 Axes>"
      ]
     },
     "metadata": {},
     "output_type": "display_data"
    }
   ],
   "source": [
    "# Show a sample image\n",
    "plt.imshow(X_train_full[0], cmap='gray')\n",
    "plt.title(f\"Sample Digit: {y_train_full[0]}\")\n",
    "plt.show()"
   ]
  },
  {
   "cell_type": "markdown",
   "id": "bb66228e-7e8f-42ee-af5a-1a0bc674f9a9",
   "metadata": {},
   "source": [
    "## Binary Classification Preparation\n",
    "\n",
    "- y_train_full contains digits 0, 1, ..., 9.\n",
    "\n",
    "- We want binary classification:\n",
    "\n",
    "    Label is 1 → if the image is \"0\".\n",
    "\n",
    "    Label is 0 → if the image is NOT 0 (any other digit 1–9).\n",
    "\n",
    "\n",
    ".astype(np.float32) → It converts True/False into 1.0/0.0 (float values TensorFlow can work with)."
   ]
  },
  {
   "cell_type": "code",
   "execution_count": 52,
   "id": "6fd4b3b2-812e-4e90-a28a-214e28615771",
   "metadata": {},
   "outputs": [],
   "source": [
    "# Binary classification: \"0\" vs \"not 0\"\n",
    "y_train_binary = (y_train_full == 0).astype(np.float32)  # 1 if digit is 0, else 0\n",
    "y_test_binary = (y_test == 0).astype(np.float32)"
   ]
  },
  {
   "cell_type": "markdown",
   "id": "6dd5b67c-2318-41fc-b7e8-c4e5ecf2e523",
   "metadata": {},
   "source": [
    "## Preprocessing Images\n",
    "\n",
    "Scale pixel values from 0-255 → 0-1 for faster and stable training."
   ]
  },
  {
   "cell_type": "code",
   "execution_count": 53,
   "id": "67a8659f-6cf4-4f00-a37d-8b2d3d094210",
   "metadata": {},
   "outputs": [],
   "source": [
    "# Normalize pixel values to [0, 1]\n",
    "X_train_full = X_train_full / 255.0\n",
    "X_test = X_test / 255.0"
   ]
  },
  {
   "cell_type": "markdown",
   "id": "7fd7c0a0-0b59-4fb5-99c0-d956a83ce7b0",
   "metadata": {},
   "source": [
    "## Flatten images:\n",
    "\n",
    "28×28 → 784-dimensional vector (1D array).\n",
    "\n",
    "Neural networks expect 1D input for Dense layers."
   ]
  },
  {
   "cell_type": "code",
   "execution_count": 54,
   "id": "ca7a7709-24d4-4b4d-9c56-892c60385d6a",
   "metadata": {},
   "outputs": [],
   "source": [
    "# Flatten 28x28 images into 784-dimensional vectors\n",
    "X_train_full_flat = X_train_full.reshape(-1, 28 * 28)\n",
    "X_test_flat = X_test.reshape(-1, 28 * 28)"
   ]
  },
  {
   "cell_type": "markdown",
   "id": "0ced9102-96d6-49dc-991e-02762a099208",
   "metadata": {},
   "source": [
    "## Split training data into:\n",
    "\n",
    "Train Set (90%)\n",
    "\n",
    "Validation Set (10%)\n",
    "\n",
    "Validation helps to check if the model is generalizing well."
   ]
  },
  {
   "cell_type": "code",
   "execution_count": 55,
   "id": "b3912399-e848-40a5-bf09-6144dd63b28c",
   "metadata": {},
   "outputs": [],
   "source": [
    "# Split training data into train and validation sets\n",
    "X_train, X_val, y_train, y_val = train_test_split(X_train_full_flat, y_train_binary, test_size=0.1, random_state=42)"
   ]
  },
  {
   "cell_type": "markdown",
   "id": "edf84b35-9261-43c6-9ed7-1bfdcd17654a",
   "metadata": {},
   "source": [
    "## Build the Model\n",
    "\n",
    "Create a Sequential model:\n",
    "\n",
    "- First Layer: 64 neurons, ReLU activation.\n",
    "\n",
    "- Second Layer: 32 neurons, ReLU activation.\n",
    "\n",
    "- Output Layer: 1 neuron, Sigmoid activation (for binary classification)."
   ]
  },
  {
   "cell_type": "code",
   "execution_count": 56,
   "id": "bac74496-971b-495a-a6f3-479828fb09ea",
   "metadata": {},
   "outputs": [],
   "source": [
    "# Build the Neural Network model\n",
    "model = models.Sequential([\n",
    "    layers.Dense(64, activation='relu', input_shape=(784,)),  # First hidden layer\n",
    "    layers.Dense(32, activation='relu'),                      # Second hidden layer\n",
    "    layers.Dense(1, activation='sigmoid')                     # Output layer (1 neuron for binary classification)\n",
    "    ])"
   ]
  },
  {
   "cell_type": "markdown",
   "id": "57964929-b3fb-4e6b-b39e-450aa13d835d",
   "metadata": {},
   "source": [
    "## Compile the Model\n",
    "\n",
    "- metrics tell TensorFlow what to monitor during training. Here, metrics=['accuracy'] means we want to calculate and show the accuracy after every epoch.\n",
    "\n",
    "Accuracy = (Correct Predictions) / (Total Predictions)\n",
    "\n",
    "- Loss and metrics are separate:\n",
    "\n",
    "- Loss is minimized internally (to update weights).\n",
    "\n",
    "- Metrics are reported externally (for humans to read)."
   ]
  },
  {
   "cell_type": "code",
   "execution_count": 58,
   "id": "c38eba00-53c0-41f8-97f5-e7970cb2be4c",
   "metadata": {},
   "outputs": [],
   "source": [
    "# Compile the model\n",
    "model.compile(\n",
    "    optimizer='adam',\n",
    "    loss='binary_crossentropy',      # Cost function for binary classification\n",
    "    metrics=['accuracy']\n",
    ")"
   ]
  },
  {
   "cell_type": "markdown",
   "id": "5e9170a1-e07b-4a91-9806-b846f3470b1c",
   "metadata": {},
   "source": [
    "## View Model Summary\n",
    "\n",
    "Layer Name -\tName of each layer\n",
    "\n",
    "Output Shape -\tSize of output of each layer\n",
    "\n",
    "Param - \tNumber of parameters to train in that layer\n",
    "\n",
    "Param Calculation:\n",
    "\n",
    "- For Dense: (input_neurons × output_neurons) + (output_neurons for biases)"
   ]
  },
  {
   "cell_type": "code",
   "execution_count": 59,
   "id": "af55c6ae-232c-49de-82e3-32b63136cbd1",
   "metadata": {},
   "outputs": [
    {
     "data": {
      "text/html": [
       "<pre style=\"white-space:pre;overflow-x:auto;line-height:normal;font-family:Menlo,'DejaVu Sans Mono',consolas,'Courier New',monospace\"><span style=\"font-weight: bold\">Model: \"sequential_2\"</span>\n",
       "</pre>\n"
      ],
      "text/plain": [
       "\u001b[1mModel: \"sequential_2\"\u001b[0m\n"
      ]
     },
     "metadata": {},
     "output_type": "display_data"
    },
    {
     "data": {
      "text/html": [
       "<pre style=\"white-space:pre;overflow-x:auto;line-height:normal;font-family:Menlo,'DejaVu Sans Mono',consolas,'Courier New',monospace\">┏━━━━━━━━━━━━━━━━━━━━━━━━━━━━━━━━━━━━━━┳━━━━━━━━━━━━━━━━━━━━━━━━━━━━━┳━━━━━━━━━━━━━━━━━┓\n",
       "┃<span style=\"font-weight: bold\"> Layer (type)                         </span>┃<span style=\"font-weight: bold\"> Output Shape                </span>┃<span style=\"font-weight: bold\">         Param # </span>┃\n",
       "┡━━━━━━━━━━━━━━━━━━━━━━━━━━━━━━━━━━━━━━╇━━━━━━━━━━━━━━━━━━━━━━━━━━━━━╇━━━━━━━━━━━━━━━━━┩\n",
       "│ dense_6 (<span style=\"color: #0087ff; text-decoration-color: #0087ff\">Dense</span>)                      │ (<span style=\"color: #00d7ff; text-decoration-color: #00d7ff\">None</span>, <span style=\"color: #00af00; text-decoration-color: #00af00\">64</span>)                  │          <span style=\"color: #00af00; text-decoration-color: #00af00\">50,240</span> │\n",
       "├──────────────────────────────────────┼─────────────────────────────┼─────────────────┤\n",
       "│ dense_7 (<span style=\"color: #0087ff; text-decoration-color: #0087ff\">Dense</span>)                      │ (<span style=\"color: #00d7ff; text-decoration-color: #00d7ff\">None</span>, <span style=\"color: #00af00; text-decoration-color: #00af00\">32</span>)                  │           <span style=\"color: #00af00; text-decoration-color: #00af00\">2,080</span> │\n",
       "├──────────────────────────────────────┼─────────────────────────────┼─────────────────┤\n",
       "│ dense_8 (<span style=\"color: #0087ff; text-decoration-color: #0087ff\">Dense</span>)                      │ (<span style=\"color: #00d7ff; text-decoration-color: #00d7ff\">None</span>, <span style=\"color: #00af00; text-decoration-color: #00af00\">1</span>)                   │              <span style=\"color: #00af00; text-decoration-color: #00af00\">33</span> │\n",
       "└──────────────────────────────────────┴─────────────────────────────┴─────────────────┘\n",
       "</pre>\n"
      ],
      "text/plain": [
       "┏━━━━━━━━━━━━━━━━━━━━━━━━━━━━━━━━━━━━━━┳━━━━━━━━━━━━━━━━━━━━━━━━━━━━━┳━━━━━━━━━━━━━━━━━┓\n",
       "┃\u001b[1m \u001b[0m\u001b[1mLayer (type)                        \u001b[0m\u001b[1m \u001b[0m┃\u001b[1m \u001b[0m\u001b[1mOutput Shape               \u001b[0m\u001b[1m \u001b[0m┃\u001b[1m \u001b[0m\u001b[1m        Param #\u001b[0m\u001b[1m \u001b[0m┃\n",
       "┡━━━━━━━━━━━━━━━━━━━━━━━━━━━━━━━━━━━━━━╇━━━━━━━━━━━━━━━━━━━━━━━━━━━━━╇━━━━━━━━━━━━━━━━━┩\n",
       "│ dense_6 (\u001b[38;5;33mDense\u001b[0m)                      │ (\u001b[38;5;45mNone\u001b[0m, \u001b[38;5;34m64\u001b[0m)                  │          \u001b[38;5;34m50,240\u001b[0m │\n",
       "├──────────────────────────────────────┼─────────────────────────────┼─────────────────┤\n",
       "│ dense_7 (\u001b[38;5;33mDense\u001b[0m)                      │ (\u001b[38;5;45mNone\u001b[0m, \u001b[38;5;34m32\u001b[0m)                  │           \u001b[38;5;34m2,080\u001b[0m │\n",
       "├──────────────────────────────────────┼─────────────────────────────┼─────────────────┤\n",
       "│ dense_8 (\u001b[38;5;33mDense\u001b[0m)                      │ (\u001b[38;5;45mNone\u001b[0m, \u001b[38;5;34m1\u001b[0m)                   │              \u001b[38;5;34m33\u001b[0m │\n",
       "└──────────────────────────────────────┴─────────────────────────────┴─────────────────┘\n"
      ]
     },
     "metadata": {},
     "output_type": "display_data"
    },
    {
     "data": {
      "text/html": [
       "<pre style=\"white-space:pre;overflow-x:auto;line-height:normal;font-family:Menlo,'DejaVu Sans Mono',consolas,'Courier New',monospace\"><span style=\"font-weight: bold\"> Total params: </span><span style=\"color: #00af00; text-decoration-color: #00af00\">52,353</span> (204.50 KB)\n",
       "</pre>\n"
      ],
      "text/plain": [
       "\u001b[1m Total params: \u001b[0m\u001b[38;5;34m52,353\u001b[0m (204.50 KB)\n"
      ]
     },
     "metadata": {},
     "output_type": "display_data"
    },
    {
     "data": {
      "text/html": [
       "<pre style=\"white-space:pre;overflow-x:auto;line-height:normal;font-family:Menlo,'DejaVu Sans Mono',consolas,'Courier New',monospace\"><span style=\"font-weight: bold\"> Trainable params: </span><span style=\"color: #00af00; text-decoration-color: #00af00\">52,353</span> (204.50 KB)\n",
       "</pre>\n"
      ],
      "text/plain": [
       "\u001b[1m Trainable params: \u001b[0m\u001b[38;5;34m52,353\u001b[0m (204.50 KB)\n"
      ]
     },
     "metadata": {},
     "output_type": "display_data"
    },
    {
     "data": {
      "text/html": [
       "<pre style=\"white-space:pre;overflow-x:auto;line-height:normal;font-family:Menlo,'DejaVu Sans Mono',consolas,'Courier New',monospace\"><span style=\"font-weight: bold\"> Non-trainable params: </span><span style=\"color: #00af00; text-decoration-color: #00af00\">0</span> (0.00 B)\n",
       "</pre>\n"
      ],
      "text/plain": [
       "\u001b[1m Non-trainable params: \u001b[0m\u001b[38;5;34m0\u001b[0m (0.00 B)\n"
      ]
     },
     "metadata": {},
     "output_type": "display_data"
    }
   ],
   "source": [
    "# Model summary\n",
    "model.summary()"
   ]
  },
  {
   "cell_type": "markdown",
   "id": "57b38e33-da09-4bf7-bf46-82a598ce0064",
   "metadata": {},
   "source": [
    "## Train the Model\n",
    "\n",
    "X_train, y_train -\tTraining data\n",
    "\n",
    "epochs -\tNumber of full passes through the dataset\n",
    "\n",
    "batch_size -\tNumber of samples processed before updating model weights\n",
    "\n",
    "validation_data -\tData to evaluate performance after each epoch\n",
    "\n",
    "It returns a history object →\n",
    "It contains Loss and Accuracy over epochs → used for plotting graphs later!"
   ]
  },
  {
   "cell_type": "code",
   "execution_count": 60,
   "id": "38e6f0b3-fe73-4500-8c3c-e25d840e2a76",
   "metadata": {},
   "outputs": [
    {
     "name": "stdout",
     "output_type": "stream",
     "text": [
      "Epoch 1/20\n",
      "\u001b[1m1688/1688\u001b[0m \u001b[32m━━━━━━━━━━━━━━━━━━━━\u001b[0m\u001b[37m\u001b[0m \u001b[1m3s\u001b[0m 1ms/step - accuracy: 0.9820 - loss: 0.0581 - val_accuracy: 0.9955 - val_loss: 0.0135\n",
      "Epoch 2/20\n",
      "\u001b[1m1688/1688\u001b[0m \u001b[32m━━━━━━━━━━━━━━━━━━━━\u001b[0m\u001b[37m\u001b[0m \u001b[1m2s\u001b[0m 1ms/step - accuracy: 0.9964 - loss: 0.0127 - val_accuracy: 0.9957 - val_loss: 0.0144\n",
      "Epoch 3/20\n",
      "\u001b[1m1688/1688\u001b[0m \u001b[32m━━━━━━━━━━━━━━━━━━━━\u001b[0m\u001b[37m\u001b[0m \u001b[1m2s\u001b[0m 1ms/step - accuracy: 0.9975 - loss: 0.0068 - val_accuracy: 0.9963 - val_loss: 0.0100\n",
      "Epoch 4/20\n",
      "\u001b[1m1688/1688\u001b[0m \u001b[32m━━━━━━━━━━━━━━━━━━━━\u001b[0m\u001b[37m\u001b[0m \u001b[1m2s\u001b[0m 1ms/step - accuracy: 0.9985 - loss: 0.0047 - val_accuracy: 0.9977 - val_loss: 0.0070\n",
      "Epoch 5/20\n",
      "\u001b[1m1688/1688\u001b[0m \u001b[32m━━━━━━━━━━━━━━━━━━━━\u001b[0m\u001b[37m\u001b[0m \u001b[1m2s\u001b[0m 1ms/step - accuracy: 0.9988 - loss: 0.0033 - val_accuracy: 0.9975 - val_loss: 0.0087\n",
      "Epoch 6/20\n",
      "\u001b[1m1688/1688\u001b[0m \u001b[32m━━━━━━━━━━━━━━━━━━━━\u001b[0m\u001b[37m\u001b[0m \u001b[1m2s\u001b[0m 1ms/step - accuracy: 0.9988 - loss: 0.0029 - val_accuracy: 0.9975 - val_loss: 0.0083\n",
      "Epoch 7/20\n",
      "\u001b[1m1688/1688\u001b[0m \u001b[32m━━━━━━━━━━━━━━━━━━━━\u001b[0m\u001b[37m\u001b[0m \u001b[1m2s\u001b[0m 1ms/step - accuracy: 0.9995 - loss: 0.0021 - val_accuracy: 0.9970 - val_loss: 0.0132\n",
      "Epoch 8/20\n",
      "\u001b[1m1688/1688\u001b[0m \u001b[32m━━━━━━━━━━━━━━━━━━━━\u001b[0m\u001b[37m\u001b[0m \u001b[1m2s\u001b[0m 1ms/step - accuracy: 0.9993 - loss: 0.0021 - val_accuracy: 0.9977 - val_loss: 0.0085\n",
      "Epoch 9/20\n",
      "\u001b[1m1688/1688\u001b[0m \u001b[32m━━━━━━━━━━━━━━━━━━━━\u001b[0m\u001b[37m\u001b[0m \u001b[1m2s\u001b[0m 1ms/step - accuracy: 0.9996 - loss: 0.0015 - val_accuracy: 0.9982 - val_loss: 0.0089\n",
      "Epoch 10/20\n",
      "\u001b[1m1688/1688\u001b[0m \u001b[32m━━━━━━━━━━━━━━━━━━━━\u001b[0m\u001b[37m\u001b[0m \u001b[1m2s\u001b[0m 1ms/step - accuracy: 0.9995 - loss: 0.0014 - val_accuracy: 0.9972 - val_loss: 0.0091\n",
      "Epoch 11/20\n",
      "\u001b[1m1688/1688\u001b[0m \u001b[32m━━━━━━━━━━━━━━━━━━━━\u001b[0m\u001b[37m\u001b[0m \u001b[1m2s\u001b[0m 1ms/step - accuracy: 0.9996 - loss: 0.0016 - val_accuracy: 0.9967 - val_loss: 0.0135\n",
      "Epoch 12/20\n",
      "\u001b[1m1688/1688\u001b[0m \u001b[32m━━━━━━━━━━━━━━━━━━━━\u001b[0m\u001b[37m\u001b[0m \u001b[1m2s\u001b[0m 1ms/step - accuracy: 0.9994 - loss: 0.0021 - val_accuracy: 0.9977 - val_loss: 0.0130\n",
      "Epoch 13/20\n",
      "\u001b[1m1688/1688\u001b[0m \u001b[32m━━━━━━━━━━━━━━━━━━━━\u001b[0m\u001b[37m\u001b[0m \u001b[1m2s\u001b[0m 1ms/step - accuracy: 0.9994 - loss: 0.0015 - val_accuracy: 0.9972 - val_loss: 0.0135\n",
      "Epoch 14/20\n",
      "\u001b[1m1688/1688\u001b[0m \u001b[32m━━━━━━━━━━━━━━━━━━━━\u001b[0m\u001b[37m\u001b[0m \u001b[1m2s\u001b[0m 1ms/step - accuracy: 0.9998 - loss: 0.0010 - val_accuracy: 0.9970 - val_loss: 0.0150\n",
      "Epoch 15/20\n",
      "\u001b[1m1688/1688\u001b[0m \u001b[32m━━━━━━━━━━━━━━━━━━━━\u001b[0m\u001b[37m\u001b[0m \u001b[1m2s\u001b[0m 1ms/step - accuracy: 0.9996 - loss: 0.0019 - val_accuracy: 0.9975 - val_loss: 0.0147\n",
      "Epoch 16/20\n",
      "\u001b[1m1688/1688\u001b[0m \u001b[32m━━━━━━━━━━━━━━━━━━━━\u001b[0m\u001b[37m\u001b[0m \u001b[1m2s\u001b[0m 1ms/step - accuracy: 0.9991 - loss: 0.0023 - val_accuracy: 0.9975 - val_loss: 0.0131\n",
      "Epoch 17/20\n",
      "\u001b[1m1688/1688\u001b[0m \u001b[32m━━━━━━━━━━━━━━━━━━━━\u001b[0m\u001b[37m\u001b[0m \u001b[1m2s\u001b[0m 1ms/step - accuracy: 0.9997 - loss: 9.7084e-04 - val_accuracy: 0.9977 - val_loss: 0.0129\n",
      "Epoch 18/20\n",
      "\u001b[1m1688/1688\u001b[0m \u001b[32m━━━━━━━━━━━━━━━━━━━━\u001b[0m\u001b[37m\u001b[0m \u001b[1m2s\u001b[0m 1ms/step - accuracy: 0.9996 - loss: 0.0011 - val_accuracy: 0.9975 - val_loss: 0.0119\n",
      "Epoch 19/20\n",
      "\u001b[1m1688/1688\u001b[0m \u001b[32m━━━━━━━━━━━━━━━━━━━━\u001b[0m\u001b[37m\u001b[0m \u001b[1m2s\u001b[0m 1ms/step - accuracy: 0.9998 - loss: 5.2502e-04 - val_accuracy: 0.9972 - val_loss: 0.0124\n",
      "Epoch 20/20\n",
      "\u001b[1m1688/1688\u001b[0m \u001b[32m━━━━━━━━━━━━━━━━━━━━\u001b[0m\u001b[37m\u001b[0m \u001b[1m2s\u001b[0m 1ms/step - accuracy: 0.9998 - loss: 4.3869e-04 - val_accuracy: 0.9972 - val_loss: 0.0167\n"
     ]
    }
   ],
   "source": [
    "# Train the model\n",
    "history = model.fit(\n",
    "    X_train, y_train,\n",
    "    epochs=20,\n",
    "    batch_size=32,\n",
    "    validation_data=(X_val, y_val)\n",
    ")"
   ]
  },
  {
   "cell_type": "markdown",
   "id": "741fbc8e-41f3-416e-acf1-d48e65028926",
   "metadata": {},
   "source": [
    "## Model Evaluation\n",
    "\n",
    "- We call model.evaluate() on unseen test data.\n",
    "\n",
    "- It calculates the final Loss and Accuracy on test set.\n",
    "\n",
    "- Accuracy shows how well the model generalizes."
   ]
  },
  {
   "cell_type": "code",
   "execution_count": 61,
   "id": "616231f3-ed82-4161-8a37-0e1c2f35dd22",
   "metadata": {},
   "outputs": [
    {
     "name": "stdout",
     "output_type": "stream",
     "text": [
      "\u001b[1m313/313\u001b[0m \u001b[32m━━━━━━━━━━━━━━━━━━━━\u001b[0m\u001b[37m\u001b[0m \u001b[1m0s\u001b[0m 866us/step - accuracy: 0.9965 - loss: 0.0168\n",
      "Test Accuracy: 0.9975\n"
     ]
    }
   ],
   "source": [
    "# Evaluate the model\n",
    "test_loss, test_accuracy = model.evaluate(X_test_flat, y_test_binary)\n",
    "print(f\"Test Accuracy: {test_accuracy:.4f}\")"
   ]
  },
  {
   "cell_type": "markdown",
   "id": "7eba662a-51ac-45ff-9f4e-7972df860fef",
   "metadata": {},
   "source": [
    "## Plot Loss and Accuracy\n",
    "\n",
    "Training:\n",
    "\n",
    "- Loss :\tHow wrong predictions are on training set\n",
    "\n",
    "- Accuracy :\tCorrect % predictions on training set\n",
    "\n",
    "Validation:\n",
    "\n",
    "- Loss :\tHow wrong predictions are on validation set\n",
    "\n",
    "- Accuracy :\tCorrect % predictions on validation set\n",
    "\n",
    "We plot both because:\n",
    "\n",
    "- If Training accuracy is high but Validation accuracy is low, the model is overfitting (memorizing data).\n",
    "\n",
    "- If both Training and Validation losses decrease together, the model is learning well."
   ]
  },
  {
   "cell_type": "code",
   "execution_count": 62,
   "id": "940f7219-e1b0-46f1-a4db-d4b2f6e409cb",
   "metadata": {},
   "outputs": [
    {
     "data": {
      "text/plain": [
       "<Figure size 1400x500 with 0 Axes>"
      ]
     },
     "execution_count": 62,
     "metadata": {},
     "output_type": "execute_result"
    },
    {
     "data": {
      "text/plain": [
       "<Figure size 1400x500 with 0 Axes>"
      ]
     },
     "metadata": {},
     "output_type": "display_data"
    }
   ],
   "source": [
    "# Plot Loss and Accuracy curves\n",
    "plt.figure(figsize=(14,5))"
   ]
  },
  {
   "cell_type": "code",
   "execution_count": 63,
   "id": "958d9c11-d40f-4947-90d3-357566c17015",
   "metadata": {},
   "outputs": [
    {
     "data": {
      "text/plain": [
       "<matplotlib.legend.Legend at 0x18e81a7b0b0>"
      ]
     },
     "execution_count": 63,
     "metadata": {},
     "output_type": "execute_result"
    },
    {
     "data": {
      "image/png": "[encoded data removed]",
      "text/plain": [
       "<Figure size 640x480 with 1 Axes>"
      ]
     },
     "metadata": {},
     "output_type": "display_data"
    }
   ],
   "source": [
    "# Loss plot\n",
    "plt.subplot(1,2,1)\n",
    "plt.plot(history.history['loss'], label='Train Loss')\n",
    "plt.plot(history.history['val_loss'], label='Validation Loss')\n",
    "plt.title('Loss over epochs')\n",
    "plt.xlabel('Epochs')\n",
    "plt.ylabel('Loss')\n",
    "plt.legend()"
   ]
  },
  {
   "cell_type": "code",
   "execution_count": 64,
   "id": "7060b0dc-aeff-485f-813d-866eab73d06e",
   "metadata": {},
   "outputs": [
    {
     "data": {
      "image/png": "[encoded data removed]",
      "text/plain": [
       "<Figure size 640x480 with 1 Axes>"
      ]
     },
     "metadata": {},
     "output_type": "display_data"
    }
   ],
   "source": [
    "# Accuracy plot\n",
    "plt.subplot(1,2,2)\n",
    "plt.plot(history.history['accuracy'], label='Train Accuracy')\n",
    "plt.plot(history.history['val_accuracy'], label='Validation Accuracy')\n",
    "plt.title('Accuracy over epochs')\n",
    "plt.xlabel('Epochs')\n",
    "plt.ylabel('Accuracy')\n",
    "plt.legend()\n",
    "\n",
    "plt.show()"
   ]
  },
  {
   "cell_type": "code",
   "execution_count": 65,
   "id": "5dc486a4-ad30-4cff-81d4-825650e16ce7",
   "metadata": {},
   "outputs": [
    {
     "name": "stdout",
     "output_type": "stream",
     "text": [
      "\u001b[1m313/313\u001b[0m \u001b[32m━━━━━━━━━━━━━━━━━━━━\u001b[0m\u001b[37m\u001b[0m \u001b[1m0s\u001b[0m 638us/step\n"
     ]
    }
   ],
   "source": [
    "# Predict on some test images\n",
    "predictions = (model.predict(X_test_flat) > 0.5).astype(int)"
   ]
  },
  {
   "cell_type": "code",
   "execution_count": 66,
   "id": "b3c93fb8-25d9-4e89-8f62-6426b2339b11",
   "metadata": {},
   "outputs": [
    {
     "data": {
      "image/png": "[encoded data removed]",
      "text/plain": [
       "<Figure size 1000x500 with 10 Axes>"
      ]
     },
     "metadata": {},
     "output_type": "display_data"
    }
   ],
   "source": [
    "# Show a few test samples and their predictions\n",
    "plt.figure(figsize=(10,5))\n",
    "for i in range(10):\n",
    "    plt.subplot(2,5,i+1)\n",
    "    plt.imshow(X_test[i], cmap='gray')\n",
    "    plt.title(f\"Pred: {predictions[i][0]}, True: {int(y_test_binary[i])}\")\n",
    "    plt.axis('off')\n",
    "\n",
    "plt.tight_layout()\n",
    "plt.show()"
   ]
  },
  {
   "cell_type": "code",
   "execution_count": null,
   "id": "a9d3b1ad-0298-4c75-a6e9-2a39143cd150",
   "metadata": {},
   "outputs": [],
   "source": []
  }
 ],
 "metadata": {
  "kernelspec": {
   "display_name": "Python 3 (ipykernel)",
   "language": "python",
   "name": "python3"
  },
  "language_info": {
   "codemirror_mode": {
    "name": "ipython",
    "version": 3
   },
   "file_extension": ".py",
   "mimetype": "text/x-python",
   "name": "python",
   "nbconvert_exporter": "python",
   "pygments_lexer": "ipython3",
   "version": "3.12.7"
  }
 },
 "nbformat": 4,
 "nbformat_minor": 5
}
